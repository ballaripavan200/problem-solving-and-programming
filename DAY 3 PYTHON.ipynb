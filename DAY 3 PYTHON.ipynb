{
 "cells": [
  {
   "cell_type": "markdown",
   "metadata": {},
   "source": [
    "## PROGRAM 1\n",
    "Design a procedure calculate the maximum, minimum and average of N numbers\n",
    "### TEST CASES :\n",
    "data( a[1,2,3,4,5] ) -> Max = 5, Min = 1, Avg = 3\n"
   ]
  },
  {
   "cell_type": "code",
   "execution_count": 24,
   "metadata": {},
   "outputs": [
    {
     "data": {
      "text/plain": [
       "(5, 1, 3)"
      ]
     },
     "execution_count": 24,
     "metadata": {},
     "output_type": "execute_result"
    }
   ],
   "source": [
    "def min_max_avg(n):\n",
    "    return max(n),min(n),(sum(n)//len(n))\n",
    "min_max_avg([1,2,3,4,5])"
   ]
  },
  {
   "cell_type": "markdown",
   "metadata": {},
   "source": [
    "## problem 2 :\n",
    "perfect number or not\n",
    "### test cases :\n",
    "\n",
    "isperfect(3)->false\n",
    "\n",
    "isperfect(6)->false"
   ]
  },
  {
   "cell_type": "code",
   "execution_count": 29,
   "metadata": {},
   "outputs": [
    {
     "name": "stdout",
     "output_type": "stream",
     "text": [
      "False\n",
      "False\n"
     ]
    }
   ],
   "source": [
    "def pn(a):\n",
    "    sum=0\n",
    "    for i in range(1,a):\n",
    "        if(a%i==0):\n",
    "            sum=sum+i\n",
    "        if(sum==a):\n",
    "            return True\n",
    "        else:\n",
    "            return False\n",
    "print(pn(6))\n",
    "print(pn(3))\n",
    "\n"
   ]
  },
  {
   "cell_type": "code",
   "execution_count": null,
   "metadata": {},
   "outputs": [],
   "source": []
  },
  {
   "cell_type": "markdown",
   "metadata": {},
   "source": [
    "## PROGRAM 4 :\n",
    "Design a procedure to calculate the squareroot of a number \"without using the math function sqrt\".\n",
    "### TEST CASE :\n",
    "Squareroot(36) -> 6"
   ]
  },
  {
   "cell_type": "code",
   "execution_count": 4,
   "metadata": {},
   "outputs": [
    {
     "data": {
      "text/plain": [
       "6.0"
      ]
     },
     "execution_count": 4,
     "metadata": {},
     "output_type": "execute_result"
    }
   ],
   "source": [
    "def sq(a):\n",
    "    return a**0.5\n",
    "sq(36)"
   ]
  },
  {
   "cell_type": "markdown",
   "metadata": {},
   "source": [
    "## Program 5 :\n",
    "Design a procedure to determine the frequency count of numbers in a given list\n",
    "### test cases :\n",
    "Frequency( a[1,3,2,1] ) -> 1 : 2, 2 : 1, 3 : 1\n"
   ]
  },
  {
   "cell_type": "code",
   "execution_count": 17,
   "metadata": {},
   "outputs": [
    {
     "name": "stdout",
     "output_type": "stream",
     "text": [
      "{1: 2, 2: 1, 3: 1}\n",
      "{1: 2, 2: 2, 3: 1, 5: 1, 6: 1, 7: 1}\n"
     ]
    }
   ],
   "source": [
    "def unique(ar):\n",
    "    u=[]\n",
    "    for x in ar:\n",
    "        if x not in u:\n",
    "            u.append(x)\n",
    "    return u\n",
    "def freq(a):\n",
    "    d={}\n",
    "    u=unique(a)\n",
    "    for x in u:\n",
    "        count=0\n",
    "        for i in range(len(a)):\n",
    "            if(x==a[i]):\n",
    "                count=count+1\n",
    "        d[x]=count\n",
    "    return  d\n",
    "print(freq([1,2,3,1]))\n",
    "\n",
    "print(freq([1,2,3,5,1,6,7,2]))\n"
   ]
  },
  {
   "cell_type": "code",
   "execution_count": 28,
   "metadata": {},
   "outputs": [
    {
     "data": {
      "text/plain": [
       "16"
      ]
     },
     "execution_count": 28,
     "metadata": {},
     "output_type": "execute_result"
    }
   ],
   "source": [
    "def power(n,r):\n",
    "    if(r==1):\n",
    "        return n\n",
    "    else:\n",
    "        return power(n,r-1)*n\n",
    "power(2,4)"
   ]
  },
  {
   "cell_type": "code",
   "execution_count": 32,
   "metadata": {},
   "outputs": [
    {
     "name": "stdout",
     "output_type": "stream",
     "text": [
      "120\n",
      "933262154439441526816992388562667004907159682643816214685929638952175999932299156089414639761565182862536979208272237582511852109168640000000000000000000000\n"
     ]
    }
   ],
   "source": [
    "def fact(a):\n",
    "    if(a!=0):\n",
    "        f=a*fact(a-1)\n",
    "        return f\n",
    "    else:\n",
    "        return 1\n",
    "print(fact(5))\n",
    "print(fact(99))"
   ]
  },
  {
   "cell_type": "markdown",
   "metadata": {},
   "source": [
    "## problem 9 :\n",
    "to find gcd of 2 number using recursion"
   ]
  },
  {
   "cell_type": "code",
   "execution_count": 37,
   "metadata": {},
   "outputs": [
    {
     "data": {
      "text/plain": [
       "3"
      ]
     },
     "execution_count": 37,
     "metadata": {},
     "output_type": "execute_result"
    }
   ],
   "source": [
    "def gcd(a,b):\n",
    "    if(b%a==0):\n",
    "        return a\n",
    "    else:\n",
    "        return gcd(b%a,a)\n",
    "gcd(12,39)"
   ]
  },
  {
   "cell_type": "code",
   "execution_count": 1,
   "metadata": {},
   "outputs": [],
   "source": [
    "#iterative gcd\n",
    "def gcd(a,b):\n",
    "    r=b%a\n",
    "    if(r==0):\n",
    "        return "
   ]
  },
  {
   "cell_type": "markdown",
   "metadata": {},
   "source": [
    "## problem 10 :\n",
    "toers of hanoi.\n",
    "### description :\n",
    "n discs ->movie n-1 discs from source to temporary,then move nth discs from source to destination and then move n-1 disc from \n",
    "          temporary to destination\n",
    "3 disc -> move 2 discs from source to temporary,then move 3rd disc from source to destinity and then moves to the 2 discsfomtemp to destinity"
   ]
  },
  {
   "cell_type": "code",
   "execution_count": 9,
   "metadata": {},
   "outputs": [
    {
     "name": "stdout",
     "output_type": "stream",
     "text": [
      "move disk 1 from a to c\n",
      "move disk 2 from a to b\n",
      "move disk 1 from c to b\n",
      "move disk 3 from a to c\n",
      "move disk 1 from b to a\n",
      "move disk 2 from b to c\n",
      "move disk 1 from a to c\n"
     ]
    }
   ],
   "source": [
    "def toh(n,s,t,d):\n",
    "     if n==1:\n",
    "        print('move disk',n,'from',s,'to',d)\n",
    "        return\n",
    "     else:\n",
    "        toh(n-1,s,d,t)\n",
    "        print('move disk',n,'from',s,'to',d)\n",
    "        toh(n-1,t,s,d)\n",
    "        return\n",
    "toh(3,'a','b','c')"
   ]
  },
  {
   "cell_type": "markdown",
   "metadata": {},
   "source": [
    "## problem 11:\n",
    "1<=n<=100\n",
    "### test case:\n",
    "* fibnoci(5)->3\n",
    "* fibnoci(8)->13"
   ]
  },
  {
   "cell_type": "code",
   "execution_count": 12,
   "metadata": {},
   "outputs": [
    {
     "name": "stdout",
     "output_type": "stream",
     "text": [
      "3\n",
      "13\n"
     ]
    }
   ],
   "source": [
    "def fs(a):\n",
    "    if(a==1):\n",
    "        return 0\n",
    "    if(a==2):\n",
    "        return 1\n",
    "    else:\n",
    "        return fs(a-1)+fs(a-2)\n",
    "print(fs(5))   \n",
    "print(fs(8))"
   ]
  },
  {
   "cell_type": "markdown",
   "metadata": {},
   "source": [
    "## problem 12 :\n",
    " Define a function to identity the number of times a substring is repeating in a given string\n",
    " ### test cases :\n",
    "* substringCount('str', 'substr') -> 1\n",
    "* substringCount('1234567891122334455', '3') -> 3\n",
    "* substringCount('abccddccc', 'cc') -> 3\n",
    "* substringCount('aaaaaaa', 'aaa' ) -> 5"
   ]
  },
  {
   "cell_type": "code",
   "execution_count": 21,
   "metadata": {},
   "outputs": [
    {
     "ename": "UnboundLocalError",
     "evalue": "local variable 'count' referenced before assignment",
     "output_type": "error",
     "traceback": [
      "\u001b[1;31m---------------------------------------------------------------------------\u001b[0m",
      "\u001b[1;31mUnboundLocalError\u001b[0m                         Traceback (most recent call last)",
      "\u001b[1;32m<ipython-input-21-2d777fc0d1bf>\u001b[0m in \u001b[0;36m<module>\u001b[1;34m\u001b[0m\n\u001b[0;32m     10\u001b[0m             \u001b[0mj\u001b[0m\u001b[1;33m=\u001b[0m\u001b[0mj\u001b[0m\u001b[1;33m+\u001b[0m\u001b[1;36m1\u001b[0m\u001b[1;33m\u001b[0m\u001b[1;33m\u001b[0m\u001b[0m\n\u001b[0;32m     11\u001b[0m         \u001b[1;32mreturn\u001b[0m \u001b[0mcount\u001b[0m\u001b[1;33m\u001b[0m\u001b[1;33m\u001b[0m\u001b[0m\n\u001b[1;32m---> 12\u001b[1;33m \u001b[0mprint\u001b[0m\u001b[1;33m(\u001b[0m\u001b[0msubstring\u001b[0m\u001b[1;33m(\u001b[0m\u001b[1;34m'str'\u001b[0m\u001b[1;33m,\u001b[0m\u001b[1;34m'substr'\u001b[0m\u001b[1;33m)\u001b[0m\u001b[1;33m)\u001b[0m\u001b[1;33m\u001b[0m\u001b[1;33m\u001b[0m\u001b[0m\n\u001b[0m\u001b[0;32m     13\u001b[0m \u001b[0mprint\u001b[0m\u001b[1;33m(\u001b[0m\u001b[0msubstring\u001b[0m\u001b[1;33m(\u001b[0m\u001b[1;34m'123456789112233'\u001b[0m\u001b[1;33m,\u001b[0m\u001b[1;34m'3'\u001b[0m\u001b[1;33m)\u001b[0m\u001b[1;33m)\u001b[0m\u001b[1;33m\u001b[0m\u001b[1;33m\u001b[0m\u001b[0m\n\u001b[0;32m     14\u001b[0m \u001b[0mprint\u001b[0m\u001b[1;33m(\u001b[0m\u001b[0msubstring\u001b[0m\u001b[1;33m(\u001b[0m\u001b[1;34m'aaaaaaaaaa'\u001b[0m\u001b[1;33m,\u001b[0m\u001b[1;34m'aaa'\u001b[0m\u001b[1;33m)\u001b[0m\u001b[1;33m)\u001b[0m\u001b[1;33m\u001b[0m\u001b[1;33m\u001b[0m\u001b[0m\n",
      "\u001b[1;32m<ipython-input-21-2d777fc0d1bf>\u001b[0m in \u001b[0;36msubstring\u001b[1;34m(a, b)\u001b[0m\n\u001b[0;32m      2\u001b[0m     \u001b[0mcoun\u001b[0m\u001b[1;33m=\u001b[0m\u001b[1;36m0\u001b[0m\u001b[1;33m\u001b[0m\u001b[1;33m\u001b[0m\u001b[0m\n\u001b[0;32m      3\u001b[0m     \u001b[1;32mif\u001b[0m\u001b[1;33m(\u001b[0m\u001b[0mlen\u001b[0m\u001b[1;33m(\u001b[0m\u001b[0ma\u001b[0m\u001b[1;33m)\u001b[0m\u001b[1;33m<\u001b[0m\u001b[0mlen\u001b[0m\u001b[1;33m(\u001b[0m\u001b[0mb\u001b[0m\u001b[1;33m)\u001b[0m\u001b[1;33m)\u001b[0m\u001b[1;33m:\u001b[0m\u001b[1;33m\u001b[0m\u001b[1;33m\u001b[0m\u001b[0m\n\u001b[1;32m----> 4\u001b[1;33m         \u001b[1;32mreturn\u001b[0m \u001b[0msubstring\u001b[0m\u001b[1;33m(\u001b[0m\u001b[0mb\u001b[0m\u001b[1;33m,\u001b[0m\u001b[0ma\u001b[0m\u001b[1;33m)\u001b[0m\u001b[1;33m\u001b[0m\u001b[1;33m\u001b[0m\u001b[0m\n\u001b[0m\u001b[0;32m      5\u001b[0m     \u001b[1;32melse\u001b[0m\u001b[1;33m:\u001b[0m\u001b[1;33m\u001b[0m\u001b[1;33m\u001b[0m\u001b[0m\n\u001b[0;32m      6\u001b[0m         \u001b[0mj\u001b[0m\u001b[1;33m=\u001b[0m\u001b[1;36m0\u001b[0m\u001b[1;33m\u001b[0m\u001b[1;33m\u001b[0m\u001b[0m\n",
      "\u001b[1;32m<ipython-input-21-2d777fc0d1bf>\u001b[0m in \u001b[0;36msubstring\u001b[1;34m(a, b)\u001b[0m\n\u001b[0;32m      7\u001b[0m         \u001b[1;32mfor\u001b[0m \u001b[0mi\u001b[0m \u001b[1;32min\u001b[0m \u001b[0mrange\u001b[0m\u001b[1;33m(\u001b[0m\u001b[0mlen\u001b[0m\u001b[1;33m(\u001b[0m\u001b[0mb\u001b[0m\u001b[1;33m)\u001b[0m\u001b[1;33m-\u001b[0m\u001b[1;36m1\u001b[0m\u001b[1;33m,\u001b[0m\u001b[0mlen\u001b[0m\u001b[1;33m(\u001b[0m\u001b[0ma\u001b[0m\u001b[1;33m)\u001b[0m\u001b[1;33m)\u001b[0m\u001b[1;33m:\u001b[0m\u001b[1;33m\u001b[0m\u001b[1;33m\u001b[0m\u001b[0m\n\u001b[0;32m      8\u001b[0m             \u001b[1;32mif\u001b[0m \u001b[0ma\u001b[0m\u001b[1;33m[\u001b[0m\u001b[0mj\u001b[0m\u001b[1;33m:\u001b[0m\u001b[0mi\u001b[0m\u001b[1;33m+\u001b[0m\u001b[1;36m1\u001b[0m\u001b[1;33m]\u001b[0m\u001b[1;33m==\u001b[0m\u001b[0mb\u001b[0m\u001b[1;33m:\u001b[0m\u001b[1;33m\u001b[0m\u001b[1;33m\u001b[0m\u001b[0m\n\u001b[1;32m----> 9\u001b[1;33m                 \u001b[0mcount\u001b[0m\u001b[1;33m=\u001b[0m\u001b[0mcount\u001b[0m\u001b[1;33m+\u001b[0m\u001b[1;36m1\u001b[0m\u001b[1;33m\u001b[0m\u001b[1;33m\u001b[0m\u001b[0m\n\u001b[0m\u001b[0;32m     10\u001b[0m             \u001b[0mj\u001b[0m\u001b[1;33m=\u001b[0m\u001b[0mj\u001b[0m\u001b[1;33m+\u001b[0m\u001b[1;36m1\u001b[0m\u001b[1;33m\u001b[0m\u001b[1;33m\u001b[0m\u001b[0m\n\u001b[0;32m     11\u001b[0m         \u001b[1;32mreturn\u001b[0m \u001b[0mcount\u001b[0m\u001b[1;33m\u001b[0m\u001b[1;33m\u001b[0m\u001b[0m\n",
      "\u001b[1;31mUnboundLocalError\u001b[0m: local variable 'count' referenced before assignment"
     ]
    }
   ],
   "source": [
    "def substring(a,b):\n",
    "    coun=0\n",
    "    if(len(a)<len(b)):\n",
    "        return substring(b,a)\n",
    "    else:\n",
    "        j=0\n",
    "        for i in range(len(b)-1,len(a)):\n",
    "            if a[j:i+1]==b:\n",
    "                count=count+1\n",
    "            j=j+1\n",
    "        return count\n",
    "print(substring('str','substr'))\n",
    "print(substring('123456789112233','3'))\n",
    "print(substring('aaaaaaaaaa','aaa'))"
   ]
  },
  {
   "cell_type": "code",
   "execution_count": null,
   "metadata": {},
   "outputs": [],
   "source": []
  }
 ],
 "metadata": {
  "kernelspec": {
   "display_name": "Python 3",
   "language": "python",
   "name": "python3"
  },
  "language_info": {
   "codemirror_mode": {
    "name": "ipython",
    "version": 3
   },
   "file_extension": ".py",
   "mimetype": "text/x-python",
   "name": "python",
   "nbconvert_exporter": "python",
   "pygments_lexer": "ipython3",
   "version": "3.7.3"
  }
 },
 "nbformat": 4,
 "nbformat_minor": 2
}
