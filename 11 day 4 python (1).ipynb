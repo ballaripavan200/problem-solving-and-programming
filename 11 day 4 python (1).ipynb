{
 "cells": [
  {
   "cell_type": "markdown",
   "metadata": {},
   "source": [
    "## program 1:\n",
    "\n",
    "### Test class :\n",
    "merge string('abcd','abcd->'aabbccdd')\n",
    "merge string('0','123456'->'012345')"
   ]
  },
  {
   "cell_type": "code",
   "execution_count": 36,
   "metadata": {},
   "outputs": [
    {
     "name": "stdout",
     "output_type": "stream",
     "text": [
      "aabbccdd\n",
      "0123456\n"
     ]
    }
   ],
   "source": [
    "def ms(a,b):\n",
    "    i=len(a)\n",
    "    j=len(b)\n",
    "    s=''\n",
    "    if(i>j):\n",
    "        k=len(b)\n",
    "    elif(i==j):\n",
    "        k=len(a)\n",
    "    else:\n",
    "        k=len(a)    \n",
    "    for l in range(k):\n",
    "        s += a[l]+b[l]\n",
    "    if(i>j):\n",
    "        for l in range (j,i):\n",
    "            s+= a[l]\n",
    "    elif(i<j):\n",
    "            for l in range (i,j):\n",
    "                s += b[l]\n",
    "    return s\n",
    "print(ms('abcd','abcd') )\n",
    "print(ms('0','123456') )"
   ]
  },
  {
   "cell_type": "markdown",
   "metadata": {},
   "source": [
    "## program 2 :\n",
    "Define a function to convert a binary number to the corresponding decimal number\n",
    "## test cases:\n",
    "binaryToDecimal(1100) -> 12\n",
    "binaryToDecimal(1010) -> 10\n",
    "binaryToDecimal(111000) -> 56\n"
   ]
  },
  {
   "cell_type": "code",
   "execution_count": 37,
   "metadata": {},
   "outputs": [
    {
     "name": "stdout",
     "output_type": "stream",
     "text": [
      "12\n",
      "10\n",
      "56\n"
     ]
    }
   ],
   "source": [
    "def btd(a):\n",
    "    sum=0\n",
    "    l=len(str(a))\n",
    "    for i in range(0,l):\n",
    "        rem=a%2\n",
    "        a=int(a/10)\n",
    "        sum += (rem*2**i)\n",
    "    return sum \n",
    "print(btd(1100))\n",
    "print(btd(1010))\n",
    "print(btd(111000))"
   ]
  },
  {
   "cell_type": "markdown",
   "metadata": {},
   "source": [
    "## program 3 :\n",
    "Define a function to convert a decimal number to the corresponding binary number\n",
    "### test cases :\n",
    "decimalToBinary(15) -> 1111\n",
    "decimalToBinary(1) -> 1\n"
   ]
  },
  {
   "cell_type": "code",
   "execution_count": 38,
   "metadata": {},
   "outputs": [
    {
     "name": "stdout",
     "output_type": "stream",
     "text": [
      "1111 \n",
      "1 \n"
     ]
    }
   ],
   "source": [
    "def dtb(a):\n",
    "    while a>1:\n",
    "        rem =a%2\n",
    "        a=int(a/2)\n",
    "        print(rem,end='')\n",
    "    if (a==1):\n",
    "            print(1,end='')\n",
    "    elif(a==0):\n",
    "        print(0,end='')\n",
    "    return ' '\n",
    "print(dtb(15))\n",
    "print(dtb(1))"
   ]
  },
  {
   "cell_type": "markdown",
   "metadata": {},
   "source": [
    "## program 4 :\n",
    "  Define a function to check if a given year is a leap year. Returns a boolean value\n",
    "### test cases :\n",
    "  2000 -> True\n",
    "  \n",
    "  1900 -> False\n",
    "  \n",
    "  2012 -> True\n",
    "  \n",
    "  2020 -> True\n",
    "  \n",
    "  0200 -> False\n",
    "  "
   ]
  },
  {
   "cell_type": "code",
   "execution_count": 39,
   "metadata": {},
   "outputs": [
    {
     "name": "stdout",
     "output_type": "stream",
     "text": [
      "True\n",
      "False\n",
      "True\n",
      "True\n",
      "False\n"
     ]
    }
   ],
   "source": [
    "def leap(n):\n",
    "    if(str(n)[len(str(n))-1:len(str(n))-3:-1])=='00':\n",
    "        if(n%400==0):\n",
    "            return True\n",
    "        else:\n",
    "            return False\n",
    "    if(n%4==0):\n",
    "        return True\n",
    "    else:\n",
    "        return False\n",
    "print(leap(2000))\n",
    "print(leap(1900))\n",
    "print(leap(2012))\n",
    "print(leap(2020))\n",
    "print(leap(200))\n"
   ]
  },
  {
   "cell_type": "markdown",
   "metadata": {},
   "source": [
    "## program 5 :\n",
    "Design a Python script to determine the difference in date for given two dates in YYYY:MM:DD format(0 <= YYYY <= 9999, 1 <= MM <= 12, 1 <= DD <= 31) following the leap year rules. Return the total number of days existing between the two dates.\n",
    "### Test case :\n",
    "dateDifference('2019:05:10', '2019:05:01') -> 9\n",
    "\n",
    "dateDifference('0003:03:03', '0003:06:06') -> 95\n"
   ]
  },
  {
   "cell_type": "code",
   "execution_count": 40,
   "metadata": {},
   "outputs": [
    {
     "name": "stdout",
     "output_type": "stream",
     "text": [
      "9\n",
      "95\n"
     ]
    }
   ],
   "source": [
    "from datetime import date\n",
    "f_date=date(2019,5,10)\n",
    "l_date=date(2019,5,1)\n",
    "f_date1=date(3,3,3)\n",
    "l_date1=date(3,6,6)\n",
    "delta=l_date-f_date\n",
    "delta1=l_date1-f_date1\n",
    "print(abs(delta.days))\n",
    "print(abs(delta1.days))"
   ]
  },
  {
   "cell_type": "markdown",
   "metadata": {},
   "source": [
    "## priblem 6 :\n",
    "Define a function to find the average of all the outer elements of an N x M matrix.\n",
    "### Test cases :\n",
    "averageOuterMatrix([[1, 2, 3], [4, 5, 6], [7, 8, 9], [10, 11, 12]] -> 4.5"
   ]
  },
  {
   "cell_type": "code",
   "execution_count": 44,
   "metadata": {},
   "outputs": [
    {
     "data": {
      "text/plain": [
       "6.5"
      ]
     },
     "execution_count": 44,
     "metadata": {},
     "output_type": "execute_result"
    }
   ],
   "source": [
    "# def aom(a): \n",
    "  #  x=0 \n",
    "   # for i in range(0,len(a)):\n",
    "      #  x=x+a[i]\n",
    "    # return x\n",
    "def aom(a):\n",
    "    c=s=0\n",
    "    for i in range(0,len(a)):\n",
    "        if i==0 or i==len(a)-1:\n",
    "            s=s+sum(a[i])\n",
    "            c=c+len(a[i])\n",
    "        else:\n",
    "            s=s+a[i][0]+a[i][len(a[i])-1]\n",
    "            c=c+2\n",
    "    return s/c\n",
    "        \n",
    "aom([[1,2,3],[4,5,6],[7,8,9],[10,11,12]])\n",
    "                    \n",
    "    "
   ]
  },
  {
   "cell_type": "markdown",
   "metadata": {},
   "source": [
    "## program 7 :\n",
    " Define a function to print the sequence of spiral pattern elements for a given N x N matrix\n",
    "### Test case :\n",
    "spiralPattern([[1,2,3], [4,5,6], [7,8,9]]) -> 1 2 3 6 9 8 7 4 5\n"
   ]
  },
  {
   "cell_type": "code",
   "execution_count": 54,
   "metadata": {},
   "outputs": [
    {
     "name": "stdout",
     "output_type": "stream",
     "text": [
      "1 2 3 6 9 8 7 4 5 "
     ]
    }
   ],
   "source": [
    "def sp(a):\n",
    "    if len(a)%2==0:\n",
    "        n=len(a)\n",
    "    else:\n",
    "        n=len(a)+1\n",
    "    j=0\n",
    "    k=1\n",
    "    while n!=0:\n",
    "        for i in range (j,len(a[j])-k):\n",
    "            print(a[j][i],end=' ')\n",
    "        for i in range (j,len(a)-k):\n",
    "            print(a[i][len(a[j])-k],end=' ')\n",
    "        for i in range(len(a[j])-k,j,-1):\n",
    "            print(a[len(a)-k][i],end=' ')\n",
    "        for i in range(len(a)-k,j,-1):\n",
    "            print(a[i][j],end=' ')\n",
    "        n=n-2\n",
    "        j=j+1\n",
    "        k=k+1\n",
    "    if len(a)%2==1:\n",
    "        print(a[len(a)//2][len(a)//2],end=' ')\n",
    "sp([[1,2,3],[4,5,6],[7,8,9]])"
   ]
  }
 ],
 "metadata": {
  "kernelspec": {
   "display_name": "Python 3",
   "language": "python",
   "name": "python3"
  },
  "language_info": {
   "codemirror_mode": {
    "name": "ipython",
    "version": 3
   },
   "file_extension": ".py",
   "mimetype": "text/x-python",
   "name": "python",
   "nbconvert_exporter": "python",
   "pygments_lexer": "ipython3",
   "version": "3.7.3"
  }
 },
 "nbformat": 4,
 "nbformat_minor": 2
}
