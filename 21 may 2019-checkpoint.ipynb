{
 "cells": [
  {
   "cell_type": "markdown",
   "metadata": {},
   "source": [
    "## problem soving and programming :\n",
    "## day :- 18\n",
    "## date:-21 may 2019\n"
   ]
  },
  {
   "cell_type": "markdown",
   "metadata": {},
   "source": [
    "## problem 1 :\n",
    "* binary search\n"
   ]
  },
  {
   "cell_type": "code",
   "execution_count": 6,
   "metadata": {},
   "outputs": [
    {
     "data": {
      "text/plain": [
       "4"
      ]
     },
     "execution_count": 6,
     "metadata": {},
     "output_type": "execute_result"
    }
   ],
   "source": [
    "#midIndex = leftIndex + (rightIndex - leftIndex)//2;\n",
    "\n",
    "def bs(a,leftIndex,rightIndex,tarItem):\n",
    "    while(leftIndex<=rightIndex):\n",
    "        midIndex = leftIndex + (rightIndex - leftIndex)//2\n",
    "        if(a[midIndex]==tarItem):\n",
    "            return midIndex;\n",
    "        if(a[midIndex]==tarItem):\n",
    "            rightIndex = midindex - 1\n",
    "        else :\n",
    "            leftIndex = midIndex + 1\n",
    "    return -1\n",
    "a=[1,12,34,45,56,67]\n",
    "bs(a,0,5,56)"
   ]
  }
 ],
 "metadata": {
  "kernelspec": {
   "display_name": "Python 3",
   "language": "python",
   "name": "python3"
  },
  "language_info": {
   "codemirror_mode": {
    "name": "ipython",
    "version": 3
   },
   "file_extension": ".py",
   "mimetype": "text/x-python",
   "name": "python",
   "nbconvert_exporter": "python",
   "pygments_lexer": "ipython3",
   "version": "3.7.3"
  }
 },
 "nbformat": 4,
 "nbformat_minor": 2
}
