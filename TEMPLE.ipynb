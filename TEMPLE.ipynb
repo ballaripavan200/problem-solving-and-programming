{
 "cells": [
  {
   "cell_type": "markdown",
   "metadata": {},
   "source": [
    "# Problem Solving and Programming\n",
    "\n",
    "### Day no:-\n",
    "### Date    :-\n",
    "\n",
    "### Day out comes :\n",
    " * objective 1\n",
    " * objective 2\n",
    "### problem 1:\n",
    "#### problem statement :\n",
    "\n",
    "#### Constrains\n",
    "#### Test cases\n",
    "* Test case 1\n",
    "* Test case 1\n",
    "* Test case 1"
   ]
  }
 ],
 "metadata": {
  "kernelspec": {
   "display_name": "Python 3",
   "language": "python",
   "name": "python3"
  },
  "language_info": {
   "codemirror_mode": {
    "name": "ipython",
    "version": 3
   },
   "file_extension": ".py",
   "mimetype": "text/x-python",
   "name": "python",
   "nbconvert_exporter": "python",
   "pygments_lexer": "ipython3",
   "version": "3.7.3"
  }
 },
 "nbformat": 4,
 "nbformat_minor": 2
}
