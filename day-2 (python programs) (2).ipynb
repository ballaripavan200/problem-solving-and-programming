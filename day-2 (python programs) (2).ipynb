{
 "cells": [
  {
   "cell_type": "markdown",
   "metadata": {},
   "source": [
    "## problem :\n",
    "### statment :\n",
    "program to findgreater among 3 numbers\n",
    "#### consists :\n",
    "1<=a<=10^9\n",
    "1<=b<=10^9\n",
    "1<=c<=10^9"
   ]
  },
  {
   "cell_type": "code",
   "execution_count": 24,
   "metadata": {
    "scrolled": true
   },
   "outputs": [
    {
     "data": {
      "text/plain": [
       "5"
      ]
     },
     "execution_count": 24,
     "metadata": {},
     "output_type": "execute_result"
    }
   ],
   "source": [
    "def greatest3(a,b,c):\n",
    "    if(a>b and a>c):\n",
    "        return a\n",
    "    elif(b>c and b>a):\n",
    "        return b\n",
    "    else:\n",
    "        return c \n",
    "greatest3(3,5,4)"
   ]
  },
  {
   "cell_type": "markdown",
   "metadata": {},
   "source": [
    " ## problem 3:\n",
    "    Testing divisibility by 2 and 3 but mot 4\n",
    " #### constraints\n",
    "    From range of(1,10^9)"
   ]
  },
  {
   "cell_type": "code",
   "execution_count": 25,
   "metadata": {
    "scrolled": true
   },
   "outputs": [
    {
     "data": {
      "text/plain": [
       "True"
      ]
     },
     "execution_count": 25,
     "metadata": {},
     "output_type": "execute_result"
    }
   ],
   "source": [
    "def divisibilityby23not4(a):\n",
    "    if(a%2==0 and a%3==0 and a%4!=0):\n",
    "                return True\n",
    "    else:\n",
    "        return false\n",
    "divisibilityby23not4(18)"
   ]
  },
  {
   "cell_type": "markdown",
   "metadata": {},
   "source": [
    "## problem 2:\n",
    "gien 2 int a and b,return true if one of them is 10 or if there sum is 10"
   ]
  },
  {
   "cell_type": "code",
   "execution_count": 26,
   "metadata": {},
   "outputs": [
    {
     "data": {
      "text/plain": [
       "True"
      ]
     },
     "execution_count": 26,
     "metadata": {},
     "output_type": "execute_result"
    }
   ],
   "source": [
    "def xyz(a,b):\n",
    "    if(a+b==10 or a==10 or b==10):\n",
    "        return True\n",
    "    else:\n",
    "        return False\n",
    "xyz(5,5)"
   ]
  },
  {
   "cell_type": "markdown",
   "metadata": {},
   "source": [
    "## problem 4:\n",
    " Given 2 int values, return True if one is negative and one is positive. Except if the parameter \"negative\" is True, then         return True only if both are negative.\n",
    "### testcase :\n",
    " pos_neg(1, -1, False) → True\n",
    " pos_neg(-1, 1, False) → True\n",
    " pos_neg(-4, -5, True) → True\n",
    " pos_neg(-1,  1, true) → False\n",
    " pos_neg( 1, 6 , true) → False\n",
    " pos_neg(-1, -1, False) → False"
   ]
  },
  {
   "cell_type": "code",
   "execution_count": 39,
   "metadata": {},
   "outputs": [
    {
     "name": "stdout",
     "output_type": "stream",
     "text": [
      "True\n",
      "True\n",
      "True\n",
      "False\n",
      "False\n",
      "True\n"
     ]
    }
   ],
   "source": [
    "def pos_neg(a,b,c):\n",
    "    if(a>0 and b<0 and c==0)or(a<0 and b>0 and c==0)or(a<0 and b<0 and c==1):\n",
    "        return True\n",
    "    else:\n",
    "        return False\n",
    "print(pos_neg(1,-1,False))\n",
    "print(pos_neg(-1,1,False))\n",
    "print(pos_neg(-4,-5,True))\n",
    "print(pos_neg(-1,1,True)) \n",
    "print(pos_neg(1,6 ,True))\n",
    "print(pos_neg(1,-1,False))"
   ]
  },
  {
   "cell_type": "markdown",
   "metadata": {},
   "source": [
    "## problem 5 :\n",
    " Given an int n, return True if it is within 10 of 100 or 200. Note: abs(num) computes the absolute value of a number.\n",
    "### test case :\n",
    " near_hundred(93) → True\n",
    " near_hundred(90) → True\n",
    " near_hundred(89) → False"
   ]
  },
  {
   "cell_type": "code",
   "execution_count": 43,
   "metadata": {},
   "outputs": [
    {
     "name": "stdout",
     "output_type": "stream",
     "text": [
      "True\n",
      "True\n",
      "False\n"
     ]
    }
   ],
   "source": [
    "def near(a) :\n",
    "    if((a>=90)and(a<=110)or(a>=190)and(a<=210)) : \n",
    "         return True\n",
    "    else :\n",
    "         return False\n",
    "print(near(93))   \n",
    "print(near(90))       \n",
    "print(near(89))"
   ]
  },
  {
   "cell_type": "markdown",
   "metadata": {},
   "source": [
    "## problem 6 :\n",
    " Factorial of a given number as a procedure\n",
    "### test cases :\n",
    " Factorial(5) -> 120\n",
    " \n",
    " Factorial (6) -> 720"
   ]
  },
  {
   "cell_type": "code",
   "execution_count": 52,
   "metadata": {},
   "outputs": [
    {
     "name": "stdout",
     "output_type": "stream",
     "text": [
      "120\n",
      "362880\n"
     ]
    }
   ],
   "source": [
    "def fact(a):\n",
    "    if(a!=0):\n",
    "        f=a*fact(a-1)\n",
    "        return f\n",
    "    else:\n",
    "        return 1\n",
    "print(fact(5))\n",
    "print(fact(9))"
   ]
  },
  {
   "cell_type": "markdown",
   "metadata": {},
   "source": [
    "## program 7:\n",
    " given a integer n ,generates n randomnumbers"
   ]
  },
  {
   "cell_type": "code",
   "execution_count": null,
   "metadata": {},
   "outputs": [],
   "source": [
    "import random\n",
    "\n",
    "def srn(n,lb,ub):\n",
    "    sum=0\n",
    "    for i in range(lb,ub):\n",
    "        sum=sum+random.randint(lb,ub)\n",
    "    return sum\n",
    "srn(100,0,10**15)"
   ]
  },
  {
   "cell_type": "markdown",
   "metadata": {},
   "source": [
    "## PROGRAM 10 :\n",
    " desine a program to perform a linear search on un-sorted listunique number.it takes a array and elements to be searched and retuns the inder of the element of key element if found else return -1\n",
    "#### Constrains:\n",
    "#### testclass :\n",
    "linear search([1,4,8,0,3,5,6],3)->4\n",
    "linear search([15,12,9,6,3],0)->-1\n",
    "linear search([321,543,567,789],567)->2\n"
   ]
  },
  {
   "cell_type": "code",
   "execution_count": 9,
   "metadata": {},
   "outputs": [
    {
     "name": "stdout",
     "output_type": "stream",
     "text": [
      "-1\n",
      "2\n"
     ]
    }
   ],
   "source": [
    "a=[1,4,8,0,3,5,6]\n",
    "def linearsearch(a,key) :\n",
    "    for i in range(0,len(a)):\n",
    "         if(a[i]==key):\n",
    "            return i \n",
    "    return-1\n",
    "\n",
    "print(linearsearch([15,12,9,6,3,-3],0))\n",
    "print(linearsearch([132,543,567,789],567))\n",
    "\n",
    "    \n",
    "                "
   ]
  },
  {
   "cell_type": "markdown",
   "metadata": {},
   "source": [
    "## program 11:\n"
   ]
  },
  {
   "cell_type": "code",
   "execution_count": 47,
   "metadata": {},
   "outputs": [
    {
     "name": "stdout",
     "output_type": "stream",
     "text": [
      "123456789"
     ]
    }
   ],
   "source": [
    "def nan(n):\n",
    "     for i in range(1,n):\n",
    "        print(i,end='')\n",
    "nan(10)        "
   ]
  },
  {
   "cell_type": "markdown",
   "metadata": {},
   "source": [
    "## program 12:\n",
    " procedures to print the list of a give nmber\n",
    " ### test cases :\n",
    " Factor list(6)->1236\n",
    " Factor list(9)->1,3,6\n",
    " Factor list(19)->19"
   ]
  },
  {
   "cell_type": "code",
   "execution_count": 17,
   "metadata": {},
   "outputs": [
    {
     "name": "stdout",
     "output_type": "stream",
     "text": [
      "1 2 3 6 \n",
      "1 3 9 \n",
      "1 19 \n"
     ]
    }
   ],
   "source": [
    "def lof(a):\n",
    "     for i in range(1,a+1):\n",
    "        if(a%i==0):\n",
    "            print(i,end=' ')\n",
    "     print(end='\\n')\n",
    "\n",
    "lof(6)\n",
    "\n",
    "lof(9)  \n",
    "\n",
    "lof(19)  "
   ]
  },
  {
   "cell_type": "markdown",
   "metadata": {},
   "source": [
    "## program 13 :\n",
    " To check weather given number is prime and return boolean value\n",
    "### Test cases\n",
    " is prime(7)->true\n",
    " is prime(9)->false"
   ]
  },
  {
   "cell_type": "code",
   "execution_count": 42,
   "metadata": {},
   "outputs": [
    {
     "name": "stdout",
     "output_type": "stream",
     "text": [
      "7 is prime\n",
      "9 is not prime\n"
     ]
    }
   ],
   "source": [
    "def pr(n):\n",
    "     for i in range(2,n):\n",
    "        if(n%i==0):\n",
    "            print(n,'is not prime')\n",
    "            return\n",
    "     print(n,'is prime')\n",
    "pr(7)\n",
    "pr(9)\n",
    "        "
   ]
  },
  {
   "cell_type": "markdown",
   "metadata": {},
   "source": [
    "## program 14 :\n",
    " to print a table\n",
    "### test class \n",
    " table of 7\n",
    " table of 9"
   ]
  },
  {
   "cell_type": "code",
   "execution_count": 44,
   "metadata": {},
   "outputs": [
    {
     "name": "stdout",
     "output_type": "stream",
     "text": [
      "3 x 5 = 15\n",
      "3 x 6 = 18\n",
      "3 x 7 = 21\n",
      "3 x 8 = 24\n",
      "3 x 9 = 27\n"
     ]
    }
   ],
   "source": [
    "def Table(t,lb,ub):\n",
    "    for i in range(lb,ub+1):\n",
    "        print(t,'x',i,\"=\",t*i)\n",
    "Table(3,5,9)        "
   ]
  },
  {
   "cell_type": "markdown",
   "metadata": {},
   "source": [
    "## program 15 :\n",
    "PROCEDURE TO COUNT GIVEN NO OF DIGITS \n",
    "### Test cases\n",
    "countDigit(123456)->6\n",
    "countDigit(0)->1"
   ]
  },
  {
   "cell_type": "code",
   "execution_count": null,
   "metadata": {},
   "outputs": [],
   "source": []
  }
 ],
 "metadata": {
  "kernelspec": {
   "display_name": "Python 3",
   "language": "python",
   "name": "python3"
  },
  "language_info": {
   "codemirror_mode": {
    "name": "ipython",
    "version": 3
   },
   "file_extension": ".py",
   "mimetype": "text/x-python",
   "name": "python",
   "nbconvert_exporter": "python",
   "pygments_lexer": "ipython3",
   "version": "3.7.3"
  }
 },
 "nbformat": 4,
 "nbformat_minor": 2
}
