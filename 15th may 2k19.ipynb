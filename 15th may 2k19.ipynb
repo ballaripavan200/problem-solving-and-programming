{
 "cells": [
  {
   "cell_type": "markdown",
   "metadata": {},
   "source": [
    "## Problem solving and Programming :\n",
    "\n",
    "### Day no-12\n",
    "\n",
    "### Date-15th may 2019"
   ]
  },
  {
   "cell_type": "markdown",
   "metadata": {},
   "source": [
    "### Packages and Modules\n",
    "package- it is a collection of python scripts(py)\n",
    "\n",
    "module-a python script"
   ]
  },
  {
   "cell_type": "code",
   "execution_count": 35,
   "metadata": {},
   "outputs": [
    {
     "ename": "ModuleNotFoundError",
     "evalue": "No module named 'pythonscripts.test1'",
     "output_type": "error",
     "traceback": [
      "\u001b[1;31m---------------------------------------------------------------------------\u001b[0m",
      "\u001b[1;31mModuleNotFoundError\u001b[0m                       Traceback (most recent call last)",
      "\u001b[1;32m<ipython-input-35-d672d594e1f1>\u001b[0m in \u001b[0;36m<module>\u001b[1;34m\u001b[0m\n\u001b[1;32m----> 1\u001b[1;33m \u001b[1;32mfrom\u001b[0m \u001b[0mpythonscripts\u001b[0m\u001b[1;33m.\u001b[0m\u001b[0mtest1\u001b[0m\u001b[1;33m.\u001b[0m\u001b[0mpy\u001b[0m \u001b[1;32mimport\u001b[0m \u001b[0mfactorial\u001b[0m\u001b[1;33m\u001b[0m\u001b[1;33m\u001b[0m\u001b[0m\n\u001b[0m\u001b[0;32m      2\u001b[0m \u001b[0mfactorial\u001b[0m\u001b[1;33m(\u001b[0m\u001b[1;36m6\u001b[0m\u001b[1;33m)\u001b[0m\u001b[1;33m\u001b[0m\u001b[1;33m\u001b[0m\u001b[0m\n",
      "\u001b[1;31mModuleNotFoundError\u001b[0m: No module named 'pythonscripts.test1'"
     ]
    }
   ],
   "source": [
    "from pythonscripts.test1.py import factorial\n",
    "factorial(6)"
   ]
  },
  {
   "cell_type": "markdown",
   "metadata": {},
   "source": [
    "## Regular Expressions\n",
    "0123456789\n",
    "[0-9] # regular expression i.e,set of numerical digits\n",
    "\n",
    "[a-z] # set of all lower case alphabates\n",
    "\n",
    "[A-Z] # set of all upper case alphabates\n",
    "\n",
    "^s* or s*# any string starting with s\n",
    "\n",
    "s+a\n",
    "^a...........sS # indicatses 5 chatacters string and string starting with a and ends with s\n",
    "re->regular expression package(it has a match function with checks if the given pattern and the test string are matched)"
   ]
  },
  {
   "cell_type": "code",
   "execution_count": 42,
   "metadata": {},
   "outputs": [
    {
     "name": "stdout",
     "output_type": "stream",
     "text": [
      "dose not match\n"
     ]
    }
   ],
   "source": [
    "import re\n",
    "pattern='^g.......s'\n",
    "domain='google'\n",
    "if re.match(pattern,domain):\n",
    "    print('match')\n",
    "else:\n",
    "    print('dose not match')"
   ]
  },
  {
   "cell_type": "code",
   "execution_count": 43,
   "metadata": {},
   "outputs": [
    {
     "name": "stdout",
     "output_type": "stream",
     "text": [
      "match\n"
     ]
    }
   ],
   "source": [
    "import re\n",
    "pattern='^[a-z]{2}$'\n",
    "domain='df'\n",
    "if re.match(pattern,domain):\n",
    "    print('match')\n",
    "else:\n",
    "    print('does not match')"
   ]
  },
  {
   "cell_type": "code",
   "execution_count": 44,
   "metadata": {},
   "outputs": [
    {
     "name": "stdout",
     "output_type": "stream",
     "text": [
      "dose not match\n"
     ]
    }
   ],
   "source": [
    "import re\n",
    "pattern='^[a-z]{3,9}$'\n",
    "domain='gmail1'\n",
    "if re.match(pattern,domain):\n",
    "     print('match')\n",
    "else:\n",
    "    print('dose not match')"
   ]
  },
  {
   "cell_type": "code",
   "execution_count": 45,
   "metadata": {},
   "outputs": [
    {
     "name": "stdout",
     "output_type": "stream",
     "text": [
      "match\n"
     ]
    }
   ],
   "source": [
    "import re\n",
    "phonenumberpattern='^[6-9][0-9]{9}'\n",
    "ph='8978836282'\n",
    "if re.match(phonenumberpattern,ph):\n",
    "    print('match')\n",
    "else:\n",
    "    print('does not match')"
   ]
  },
  {
   "cell_type": "code",
   "execution_count": 47,
   "metadata": {},
   "outputs": [
    {
     "name": "stdout",
     "output_type": "stream",
     "text": [
      "does not match\n"
     ]
    }
   ],
   "source": [
    "import re\n",
    "pattern='^[a-z][a-z0-9_-]{5,15}[a-z0-9][@][0-9a-z]{3,9}[.][a-z]{2,3}$'\n",
    "domain='djbhg@.com'\n",
    "if re.match(pattern,domain):\n",
    "    print('match')\n",
    "else:\n",
    "    print('does not match')"
   ]
  },
  {
   "cell_type": "markdown",
   "metadata": {},
   "source": [
    "## password validation\n",
    "\n",
    "\n",
    "*should contains attlest one uppercase letter.\n",
    "\n",
    "*length in range(6,21)\n",
    "\n",
    "*should contain attlest one special character\n",
    "\n",
    "*should start with and upper or lower case\n",
    "\n",
    "*should contain attlest one digit\n"
   ]
  }
 ],
 "metadata": {
  "kernelspec": {
   "display_name": "Python 3",
   "language": "python",
   "name": "python3"
  },
  "language_info": {
   "codemirror_mode": {
    "name": "ipython",
    "version": 3
   },
   "file_extension": ".py",
   "mimetype": "text/x-python",
   "name": "python",
   "nbconvert_exporter": "python",
   "pygments_lexer": "ipython3",
   "version": "3.7.3"
  }
 },
 "nbformat": 4,
 "nbformat_minor": 2
}
