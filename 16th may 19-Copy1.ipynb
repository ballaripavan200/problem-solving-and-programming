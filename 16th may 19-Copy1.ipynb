{
 "cells": [
  {
   "cell_type": "markdown",
   "metadata": {},
   "source": [
    "## problem solving and and proigramming\n",
    " \n",
    "### day no : 13\n",
    "\n",
    "### date: 16-5-19"
   ]
  },
  {
   "cell_type": "markdown",
   "metadata": {},
   "source": [
    "# problem 1 :\n",
    "#### problem statement :\n",
    "defining function read the data text file.\n",
    "\n",
    "f.read()"
   ]
  },
  {
   "cell_type": "code",
   "execution_count": 4,
   "metadata": {},
   "outputs": [
    {
     "data": {
      "text/plain": [
       "'data in line 1\\n'"
      ]
     },
     "execution_count": 4,
     "metadata": {},
     "output_type": "execute_result"
    }
   ],
   "source": [
    "def readfiledata(filename):\n",
    "    f=open(filename,'r')\n",
    "    filedata=f.readline()\n",
    "    f.close()\n",
    "    return filedata \n",
    "readfiledata('Datafiles/data.txt')"
   ]
  },
  {
   "cell_type": "code",
   "execution_count": 6,
   "metadata": {},
   "outputs": [
    {
     "data": {
      "text/plain": [
       "'data in line 1\\ndata in line 2\\n'"
      ]
     },
     "execution_count": 6,
     "metadata": {},
     "output_type": "execute_result"
    }
   ],
   "source": [
    "def readfiledata(filename):\n",
    "    f=open(filename,'r')\n",
    "    filedata=f.readline()\n",
    "    filedata += f.readline()\n",
    "    f.close()\n",
    "    return filedata \n",
    "readfiledata('Datafiles/data.txt')"
   ]
  },
  {
   "cell_type": "code",
   "execution_count": 11,
   "metadata": {},
   "outputs": [
    {
     "data": {
      "text/plain": [
       "'data in line 1\\n'"
      ]
     },
     "execution_count": 11,
     "metadata": {},
     "output_type": "execute_result"
    }
   ],
   "source": [
    "def readfiledata(filename):\n",
    "    with open(filename,'r') as f:\n",
    "        filedata=f.readline()\n",
    "   \n",
    "    return filedata \n",
    "readfiledata('Datafiles/data.txt')"
   ]
  },
  {
   "cell_type": "code",
   "execution_count": 14,
   "metadata": {},
   "outputs": [
    {
     "name": "stdout",
     "output_type": "stream",
     "text": [
      "data in line 1\n",
      "data in line 2\n",
      "data in line 3\n"
     ]
    }
   ],
   "source": [
    "def readfiledata(filename):\n",
    "    with open(filename,'r')as f:\n",
    "        #for line in f:\n",
    "        #    print(line,end='')\n",
    "        print(f.read())\n",
    "    return  \n",
    "readfiledata('Datafiles/data.txt')\n"
   ]
  },
  {
   "cell_type": "code",
   "execution_count": 36,
   "metadata": {},
   "outputs": [],
   "source": [
    "def writeintofile(filename,data):\n",
    "    with open(filename,'w') as f:\n",
    "        f.write(data)\n",
    "    return\n",
    "\n",
    "writeintofile('Datafiles/filewrite.txt','data written into filewrite')"
   ]
  },
  {
   "cell_type": "markdown",
   "metadata": {},
   "source": [
    "## problem 2 :\n",
    "define function to generate marks data file(txt file) for 1300 students such that each mark is entered in a new line marks range from 0 to 100(inclusive) as random number"
   ]
  },
  {
   "cell_type": "code",
   "execution_count": 31,
   "metadata": {},
   "outputs": [],
   "source": [
    "from random import randrange\n",
    "def writeintofile(filename):\n",
    "    with open(filename,'w') as f:\n",
    "        for i in range(1,1301):\n",
    "            f.write(str(randrange(0,101)))\n",
    "            f.write('\\n')\n",
    "    return\n",
    "writeintofile('Datafiles/marks.txt')"
   ]
  },
  {
   "cell_type": "markdown",
   "metadata": {},
   "source": [
    "## problem 3 :\n",
    "problem statement :\n",
    "generate report on the marksdata with the following indicators\n",
    "\n",
    "high mark:\n",
    "\n",
    "low mark:\n",
    "\n",
    "average mark:\n",
    "\n",
    "no ofstudents with distinction(>80)\n",
    "\n",
    "no ofstudents with fist class(>60\n",
    "\n",
    "no ofstudents with second class(>50)\n",
    "\n",
    "no ofstudents with third class(>40)\n",
    "\n",
    "no of students failed(<40)"
   ]
  },
  {
   "cell_type": "code",
   "execution_count": 28,
   "metadata": {},
   "outputs": [],
   "source": [
    "def readfiledata(filename):\n",
    "    with open(filename,'r') as f:\n",
    "        marks=[]\n",
    "        for line in f:\n",
    "            marks.append(int(line))\n",
    "    return marks\n",
    "    \n",
    "def generatereport(filename):\n",
    "    marks=readfiledata('Datafiles/marks.txt')\n",
    "    with open(filename,'w') as f:\n",
    "        f.write('high marks:'+str(max(marks))+'\\n')\n",
    "        f.write('lower marks:'+str(min(marks))+'\\n')\n",
    "        f.write('average marks:'+str(max(marks)/len(marks))+'\\n')\n",
    "        count=0\n",
    "        for x in marks:\n",
    "            if(x>=80):\n",
    "                count=count+1\n",
    "        f.write('no of students distinction:'+str(count)+'\\n')\n",
    "        count=0\n",
    "        for x in marks:\n",
    "            if(x>=60 and x<80):\n",
    "                count=count+1\n",
    "        f.write('no of students with first class:'+str(count)+'\\n')\n",
    "        count=0\n",
    "        for x in marks:\n",
    "            if x>=50 and x<60:\n",
    "                count=count+1\n",
    "        f.write('no of students with second class:'+str(count)+'\\n')\n",
    "        count=0\n",
    "        for x in marks:\n",
    "            if x>=40 and x<50:\n",
    "                count=count+1\n",
    "        f.write('no of students with third class:'+str(count)+'\\n')\n",
    "        count=0\n",
    "        for x in marks:\n",
    "            if x<40:\n",
    "                count=count+1\n",
    "        f.write('no of students failed:'+str(count))\n",
    "        \n",
    "    return\n",
    "\n",
    "generatereport('Datafiles/report.txt')"
   ]
  },
  {
   "cell_type": "code",
   "execution_count": 37,
   "metadata": {},
   "outputs": [
    {
     "data": {
      "text/plain": [
       "['1', '2', '3', '4', '5', '6']"
      ]
     },
     "execution_count": 37,
     "metadata": {},
     "output_type": "execute_result"
    }
   ],
   "source": [
    "def sqare(n):\n",
    "    return n * n\n",
    "li=[1,2,3,4,5,6]\n",
    "#s=str(li)\n",
    "s=list(map(str,li))\n",
    "s\n"
   ]
  },
  {
   "cell_type": "code",
   "execution_count": 44,
   "metadata": {},
   "outputs": [
    {
     "name": "stdout",
     "output_type": "stream",
     "text": [
      "0.00016390800010412931\n"
     ]
    },
    {
     "data": {
      "text/plain": [
       "[1.0, 2.0, 3.0, 4.0, 5.0, 6.0]"
      ]
     },
     "execution_count": 44,
     "metadata": {},
     "output_type": "execute_result"
    }
   ],
   "source": [
    "import timeit\n",
    "def sqare(n):\n",
    "    return n*n\n",
    "st=timeit.default_timer()\n",
    "li=[1,2,3,4,5,6]\n",
    "#s=str(li)\n",
    "s=list(map(str,li))\n",
    "\n",
    "s=[float(i) for i in s]\n",
    "print(timeit.default_timer()-st)\n",
    "s"
   ]
  },
  {
   "cell_type": "code",
   "execution_count": null,
   "metadata": {},
   "outputs": [],
   "source": [
    "def dis(marks):\n",
    "    return marks >= 80\n",
    "\n",
    "dis = sum(map(dis))"
   ]
  }
 ],
 "metadata": {
  "kernelspec": {
   "display_name": "Python 3",
   "language": "python",
   "name": "python3"
  },
  "language_info": {
   "codemirror_mode": {
    "name": "ipython",
    "version": 3
   },
   "file_extension": ".py",
   "mimetype": "text/x-python",
   "name": "python",
   "nbconvert_exporter": "python",
   "pygments_lexer": "ipython3",
   "version": "3.7.3"
  }
 },
 "nbformat": 4,
 "nbformat_minor": 2
}
